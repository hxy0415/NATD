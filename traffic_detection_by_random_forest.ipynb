{
 "cells": [
  {
   "cell_type": "code",
   "execution_count": 1,
   "metadata": {},
   "outputs": [
    {
     "data": {
      "text/html": [
       "<div>\n",
       "<style scoped>\n",
       "    .dataframe tbody tr th:only-of-type {\n",
       "        vertical-align: middle;\n",
       "    }\n",
       "\n",
       "    .dataframe tbody tr th {\n",
       "        vertical-align: top;\n",
       "    }\n",
       "\n",
       "    .dataframe thead th {\n",
       "        text-align: right;\n",
       "    }\n",
       "</style>\n",
       "<table border=\"1\" class=\"dataframe\">\n",
       "  <thead>\n",
       "    <tr style=\"text-align: right;\">\n",
       "      <th></th>\n",
       "      <th>as_src</th>\n",
       "      <th>as_dst</th>\n",
       "      <th>ip_dst</th>\n",
       "      <th>port_dst</th>\n",
       "      <th>ip_proto</th>\n",
       "      <th>packets</th>\n",
       "      <th>bytes</th>\n",
       "      <th>flows</th>\n",
       "      <th>timestamp_start_residual</th>\n",
       "      <th>timestamp_start</th>\n",
       "    </tr>\n",
       "  </thead>\n",
       "  <tbody>\n",
       "    <tr>\n",
       "      <td>0</td>\n",
       "      <td>36040</td>\n",
       "      <td>50550</td>\n",
       "      <td>109.207.99.116</td>\n",
       "      <td>43081</td>\n",
       "      <td>6</td>\n",
       "      <td>8192</td>\n",
       "      <td>12468224</td>\n",
       "      <td>1</td>\n",
       "      <td>29725</td>\n",
       "      <td>2020-06-25 10:41:38</td>\n",
       "    </tr>\n",
       "    <tr>\n",
       "      <td>1</td>\n",
       "      <td>6507</td>\n",
       "      <td>51960</td>\n",
       "      <td>91.222.24.76</td>\n",
       "      <td>50672</td>\n",
       "      <td>17</td>\n",
       "      <td>8192</td>\n",
       "      <td>4120576</td>\n",
       "      <td>1</td>\n",
       "      <td>30836</td>\n",
       "      <td>2020-06-25 10:41:38</td>\n",
       "    </tr>\n",
       "    <tr>\n",
       "      <td>2</td>\n",
       "      <td>36351</td>\n",
       "      <td>51960</td>\n",
       "      <td>185.78.73.86</td>\n",
       "      <td>54888</td>\n",
       "      <td>6</td>\n",
       "      <td>8192</td>\n",
       "      <td>3235840</td>\n",
       "      <td>1</td>\n",
       "      <td>31095</td>\n",
       "      <td>2020-06-25 10:41:38</td>\n",
       "    </tr>\n",
       "    <tr>\n",
       "      <td>3</td>\n",
       "      <td>0</td>\n",
       "      <td>51960</td>\n",
       "      <td>91.222.24.124</td>\n",
       "      <td>49357</td>\n",
       "      <td>6</td>\n",
       "      <td>8192</td>\n",
       "      <td>12402688</td>\n",
       "      <td>1</td>\n",
       "      <td>31171</td>\n",
       "      <td>2020-06-25 10:41:38</td>\n",
       "    </tr>\n",
       "    <tr>\n",
       "      <td>4</td>\n",
       "      <td>40676</td>\n",
       "      <td>51960</td>\n",
       "      <td>91.222.24.65</td>\n",
       "      <td>50895</td>\n",
       "      <td>17</td>\n",
       "      <td>8192</td>\n",
       "      <td>9846784</td>\n",
       "      <td>1</td>\n",
       "      <td>31189</td>\n",
       "      <td>2020-06-25 10:41:38</td>\n",
       "    </tr>\n",
       "  </tbody>\n",
       "</table>\n",
       "</div>"
      ],
      "text/plain": [
       "   as_src  as_dst                                         ip_dst  port_dst  \\\n",
       "0   36040   50550  109.207.99.116                                    43081   \n",
       "1    6507   51960  91.222.24.76                                      50672   \n",
       "2   36351   51960  185.78.73.86                                      54888   \n",
       "3       0   51960  91.222.24.124                                     49357   \n",
       "4   40676   51960  91.222.24.65                                      50895   \n",
       "\n",
       "   ip_proto  packets     bytes  flows  timestamp_start_residual  \\\n",
       "0         6     8192  12468224      1                     29725   \n",
       "1        17     8192   4120576      1                     30836   \n",
       "2         6     8192   3235840      1                     31095   \n",
       "3         6     8192  12402688      1                     31171   \n",
       "4        17     8192   9846784      1                     31189   \n",
       "\n",
       "       timestamp_start  \n",
       "0  2020-06-25 10:41:38  \n",
       "1  2020-06-25 10:41:38  \n",
       "2  2020-06-25 10:41:38  \n",
       "3  2020-06-25 10:41:38  \n",
       "4  2020-06-25 10:41:38  "
      ]
     },
     "execution_count": 1,
     "metadata": {},
     "output_type": "execute_result"
    }
   ],
   "source": [
    "import pandas as pd\n",
    "import numpy as np\n",
    "\n",
    "# check data\n",
    "df = pd.read_csv('traffic1/anomaly2.csv')\n",
    "df.head()"
   ]
  },
  {
   "cell_type": "markdown",
   "metadata": {},
   "source": [
    "# 1. get dataset for training"
   ]
  },
  {
   "cell_type": "code",
   "execution_count": 6,
   "metadata": {},
   "outputs": [
    {
     "name": "stdout",
     "output_type": "stream",
     "text": [
      "count_anomaly= 2338\n",
      "CPU times: user 1min 4s, sys: 40 ms, total: 1min 4s\n",
      "Wall time: 1min 4s\n"
     ]
    }
   ],
   "source": [
    "%%time\n",
    "\n",
    "# ip address to int value (4 1B dec)\n",
    "def get_ip_fea(ip):\n",
    "    value = 0\n",
    "    for i in range(len(ip.split('.'))):\n",
    "        item = int( ip.split('.')[i] )\n",
    "        value += item*(256**(3-i))\n",
    "    return value\n",
    "\n",
    "# time stamp to int value (total seconds)\n",
    "# remove year-month-day since all 2020/6/25\n",
    "def get_time_fea(tt):\n",
    "    tt = tt.split(' ')[-1]\n",
    "    value = 0\n",
    "    for i in range(len(tt.split(':'))):\n",
    "        item = int( tt.split(':')[i] )\n",
    "        value += item*(60**(2-i))\n",
    "    return value\n",
    "\n",
    "def get_dataset():\n",
    "    x_data=[]\n",
    "    y_data=[]\n",
    "    count_anomaly = 0\n",
    "    df = pd.read_csv('traffic1/anomaly1.csv')\n",
    "    for index, row in df.iterrows():\n",
    "        fea = [int(row['as_src']), int(row['as_dst']), get_ip_fea(row['ip_dst']), int(row['port_dst']), int(row['ip_proto']), \n",
    "               int(row['packets']), int(row['bytes']), int(row['flows']), int(row['timestamp_start_residual']), get_time_fea(row['timestamp_start']) ]\n",
    "        x_data.append(fea)\n",
    "        if '185.78.74.30' in row['ip_dst']:\n",
    "            y_data.append(1)\n",
    "            count_anomaly+=1\n",
    "        else:\n",
    "            y_data.append(0)\n",
    "    \n",
    "    df = pd.read_csv('traffic1/anomaly2.csv')\n",
    "    for index, row in df.iterrows():\n",
    "        fea = [int(row['as_src']), int(row['as_dst']), get_ip_fea(row['ip_dst']), int(row['port_dst']), int(row['ip_proto']), \n",
    "               int(row['packets']), int(row['bytes']), int(row['flows']), int(row['timestamp_start_residual']), get_time_fea(row['timestamp_start']) ]\n",
    "        x_data.append(fea)\n",
    "        if '185.78.74.30' in row['ip_dst']:\n",
    "            y_data.append(1)\n",
    "            count_anomaly+=1\n",
    "        else:\n",
    "            y_data.append(0)\n",
    "\n",
    "    df = pd.read_csv('traffic1/anomaly3.csv')\n",
    "    for index, row in df.iterrows():\n",
    "        fea = [int(row['as_src']), int(row['as_dst']), get_ip_fea(row['ip_dst']), int(row['port_dst']), int(row['ip_proto']), \n",
    "               int(row['packets']), int(row['bytes']), int(row['flows']), int(row['timestamp_start_residual']), get_time_fea(row['timestamp_start']) ]\n",
    "        x_data.append(fea)\n",
    "        if '185.78.74.30' in row['ip_dst']:\n",
    "            y_data.append(1)\n",
    "            count_anomaly+=1\n",
    "        else:\n",
    "            y_data.append(0)\n",
    "            \n",
    "    df = pd.read_csv('traffic1/anomaly-mostly.csv')\n",
    "    for index, row in df.iterrows():\n",
    "        fea = [int(row['as_src']), int(row['as_dst']), get_ip_fea(row['ip_dst']), int(row['port_dst']), int(row['ip_proto']), \n",
    "               int(row['packets']), int(row['bytes']), int(row['flows']), int(row['timestamp_start_residual']), get_time_fea(row['timestamp_start']) ]\n",
    "        x_data.append(fea)\n",
    "        y_data.append(1)\n",
    "        count_anomaly+=1\n",
    "            \n",
    "    print('count_anomaly=',count_anomaly)\n",
    "    return x_data, y_data\n",
    "\n",
    "x_data, y_data = get_dataset()"
   ]
  },
  {
   "cell_type": "code",
   "execution_count": 5,
   "metadata": {},
   "outputs": [
    {
     "name": "stdout",
     "output_type": "stream",
     "text": [
      "(206925, 10) (206925,)\n"
     ]
    }
   ],
   "source": [
    "x_data, y_data = np.array(x_data), np.array(y_data)\n",
    "print(x_data.shape, y_data.shape)"
   ]
  },
  {
   "cell_type": "code",
   "execution_count": null,
   "metadata": {
    "collapsed": true
   },
   "outputs": [],
   "source": []
  },
  {
   "cell_type": "markdown",
   "metadata": {},
   "source": [
    "# 2. StandardScaler"
   ]
  },
  {
   "cell_type": "code",
   "execution_count": 7,
   "metadata": {},
   "outputs": [
    {
     "name": "stdout",
     "output_type": "stream",
     "text": [
      "CPU times: user 1.25 s, sys: 84 ms, total: 1.33 s\n",
      "Wall time: 2.8 s\n"
     ]
    }
   ],
   "source": [
    "%%time\n",
    "from sklearn.preprocessing import StandardScaler\n",
    "\n",
    "scalar = StandardScaler()\n",
    "x_data = scalar.fit_transform(x_data)# normalization"
   ]
  },
  {
   "cell_type": "code",
   "execution_count": null,
   "metadata": {
    "collapsed": true
   },
   "outputs": [],
   "source": []
  },
  {
   "cell_type": "markdown",
   "metadata": {},
   "source": [
    "# 3. RandomForestClassifier"
   ]
  },
  {
   "cell_type": "code",
   "execution_count": 9,
   "metadata": {},
   "outputs": [
    {
     "data": {
      "text/plain": [
       "0.9888321816670012"
      ]
     },
     "execution_count": 9,
     "metadata": {},
     "output_type": "execute_result"
    }
   ],
   "source": [
    "from sklearn.ensemble import RandomForestClassifier\n",
    "\n",
    "model = RandomForestClassifier()\n",
    "model.fit(x_data,y_data)\n",
    "model.score(x_data,y_data)"
   ]
  },
  {
   "cell_type": "code",
   "execution_count": 10,
   "metadata": {},
   "outputs": [
    {
     "data": {
      "text/plain": [
       "array([0.04113733, 0.00321185, 0.02030687, 0.10276845, 0.01661686,\n",
       "       0.        , 0.04071235, 0.        , 0.13608083, 0.63916546])"
      ]
     },
     "execution_count": 10,
     "metadata": {},
     "output_type": "execute_result"
    }
   ],
   "source": [
    "model.feature_importances_"
   ]
  },
  {
   "cell_type": "code",
   "execution_count": 13,
   "metadata": {
    "scrolled": true
   },
   "outputs": [
    {
     "name": "stdout",
     "output_type": "stream",
     "text": [
      "as_src\t\t0.04113732575164137\n",
      "as_dst\t\t0.003211848472232502\n",
      "ip_dst\t\t0.020306874739227227\n",
      "port_dst\t\t0.10276844950380493\n",
      "ip_proto\t\t0.016616861587658897\n",
      "packets\t\t0.0\n",
      "bytes\t\t0.040712347695042526\n",
      "flows\t\t0.0\n",
      "timestamp_start_residual\t\t0.1360808313738974\n",
      "timestamp_start\t\t0.6391654608764951\n"
     ]
    }
   ],
   "source": [
    "feature_list = ['as_src','as_dst','ip_dst','port_dst','ip_proto','packets','bytes','flows','timestamp_start_residual','timestamp_start']\n",
    "for i in range(len(feature_list)):\n",
    "    print( '{0}\\t\\t{1}'.format(feature_list[i], model.feature_importances_[i]))"
   ]
  },
  {
   "cell_type": "markdown",
   "metadata": {},
   "source": [
    "# 4. what if remove timestamp_start\t"
   ]
  },
  {
   "cell_type": "code",
   "execution_count": 14,
   "metadata": {},
   "outputs": [
    {
     "name": "stdout",
     "output_type": "stream",
     "text": [
      "x_data.shape=(209262, 10), x_data2.shape=(209262, 9)\n"
     ]
    }
   ],
   "source": [
    "x_data2 = np.delete(x_data, np.s_[-1:], axis=1)# remove last column\n",
    "print('x_data.shape={0}, x_data2.shape={1}'.format(x_data.shape,x_data2.shape))"
   ]
  },
  {
   "cell_type": "code",
   "execution_count": 15,
   "metadata": {},
   "outputs": [
    {
     "data": {
      "text/plain": [
       "0.9888321816670012"
      ]
     },
     "execution_count": 15,
     "metadata": {},
     "output_type": "execute_result"
    }
   ],
   "source": [
    "from sklearn.ensemble import RandomForestClassifier\n",
    "\n",
    "model2 = RandomForestClassifier()\n",
    "model2.fit(x_data2,y_data)\n",
    "model2.score(x_data2,y_data)"
   ]
  },
  {
   "cell_type": "code",
   "execution_count": 16,
   "metadata": {},
   "outputs": [
    {
     "name": "stdout",
     "output_type": "stream",
     "text": [
      "as_src\t\t0.06702220762098197\n",
      "as_dst\t\t0.002856756073643305\n",
      "ip_dst\t\t0.035099158745460345\n",
      "port_dst\t\t0.2847206243880571\n",
      "ip_proto\t\t0.0441421364871197\n",
      "packets\t\t0.0\n",
      "bytes\t\t0.08028659710022826\n",
      "flows\t\t0.0\n",
      "timestamp_start_residual\t\t0.4858725195845092\n"
     ]
    }
   ],
   "source": [
    "feature_list = ['as_src','as_dst','ip_dst','port_dst','ip_proto','packets','bytes','flows','timestamp_start_residual']\n",
    "for i in range(len(feature_list)):\n",
    "    print( '{0}\\t\\t{1}'.format(feature_list[i], model2.feature_importances_[i]))"
   ]
  },
  {
   "cell_type": "code",
   "execution_count": 17,
   "metadata": {},
   "outputs": [
    {
     "data": {
      "text/html": [
       "<div>\n",
       "<style scoped>\n",
       "    .dataframe tbody tr th:only-of-type {\n",
       "        vertical-align: middle;\n",
       "    }\n",
       "\n",
       "    .dataframe tbody tr th {\n",
       "        vertical-align: top;\n",
       "    }\n",
       "\n",
       "    .dataframe thead th {\n",
       "        text-align: right;\n",
       "    }\n",
       "</style>\n",
       "<table border=\"1\" class=\"dataframe\">\n",
       "  <thead>\n",
       "    <tr style=\"text-align: right;\">\n",
       "      <th></th>\n",
       "      <th>as_src</th>\n",
       "      <th>as_dst</th>\n",
       "      <th>ip_dst</th>\n",
       "      <th>port_dst</th>\n",
       "      <th>ip_proto</th>\n",
       "      <th>packets</th>\n",
       "      <th>bytes</th>\n",
       "      <th>flows</th>\n",
       "      <th>timestamp_start_residual</th>\n",
       "      <th>timestamp_start</th>\n",
       "    </tr>\n",
       "  </thead>\n",
       "  <tbody>\n",
       "    <tr>\n",
       "      <td>0</td>\n",
       "      <td>16276</td>\n",
       "      <td>51960</td>\n",
       "      <td>91.222.24.137</td>\n",
       "      <td>51989</td>\n",
       "      <td>6</td>\n",
       "      <td>8192</td>\n",
       "      <td>12402688</td>\n",
       "      <td>1</td>\n",
       "      <td>4293</td>\n",
       "      <td>2020-06-25 09:32:52</td>\n",
       "    </tr>\n",
       "    <tr>\n",
       "      <td>1</td>\n",
       "      <td>32934</td>\n",
       "      <td>51960</td>\n",
       "      <td>91.222.27.201</td>\n",
       "      <td>50400</td>\n",
       "      <td>6</td>\n",
       "      <td>8192</td>\n",
       "      <td>11649024</td>\n",
       "      <td>1</td>\n",
       "      <td>4340</td>\n",
       "      <td>2020-06-25 09:32:52</td>\n",
       "    </tr>\n",
       "    <tr>\n",
       "      <td>2</td>\n",
       "      <td>15133</td>\n",
       "      <td>51960</td>\n",
       "      <td>193.9.123.223</td>\n",
       "      <td>57334</td>\n",
       "      <td>6</td>\n",
       "      <td>8192</td>\n",
       "      <td>12402688</td>\n",
       "      <td>1</td>\n",
       "      <td>4604</td>\n",
       "      <td>2020-06-25 09:32:52</td>\n",
       "    </tr>\n",
       "    <tr>\n",
       "      <td>3</td>\n",
       "      <td>2906</td>\n",
       "      <td>51960</td>\n",
       "      <td>91.222.24.102</td>\n",
       "      <td>26417</td>\n",
       "      <td>6</td>\n",
       "      <td>8192</td>\n",
       "      <td>12304384</td>\n",
       "      <td>1</td>\n",
       "      <td>4700</td>\n",
       "      <td>2020-06-25 09:32:52</td>\n",
       "    </tr>\n",
       "    <tr>\n",
       "      <td>4</td>\n",
       "      <td>2906</td>\n",
       "      <td>51960</td>\n",
       "      <td>193.9.123.95</td>\n",
       "      <td>51357</td>\n",
       "      <td>6</td>\n",
       "      <td>8192</td>\n",
       "      <td>12402688</td>\n",
       "      <td>1</td>\n",
       "      <td>4733</td>\n",
       "      <td>2020-06-25 09:32:52</td>\n",
       "    </tr>\n",
       "  </tbody>\n",
       "</table>\n",
       "</div>"
      ],
      "text/plain": [
       "   as_src  as_dst                                         ip_dst  port_dst  \\\n",
       "0   16276   51960  91.222.24.137                                     51989   \n",
       "1   32934   51960  91.222.27.201                                     50400   \n",
       "2   15133   51960  193.9.123.223                                     57334   \n",
       "3    2906   51960  91.222.24.102                                     26417   \n",
       "4    2906   51960  193.9.123.95                                      51357   \n",
       "\n",
       "   ip_proto  packets     bytes  flows  timestamp_start_residual  \\\n",
       "0         6     8192  12402688      1                      4293   \n",
       "1         6     8192  11649024      1                      4340   \n",
       "2         6     8192  12402688      1                      4604   \n",
       "3         6     8192  12304384      1                      4700   \n",
       "4         6     8192  12402688      1                      4733   \n",
       "\n",
       "       timestamp_start  \n",
       "0  2020-06-25 09:32:52  \n",
       "1  2020-06-25 09:32:52  \n",
       "2  2020-06-25 09:32:52  \n",
       "3  2020-06-25 09:32:52  \n",
       "4  2020-06-25 09:32:52  "
      ]
     },
     "execution_count": 17,
     "metadata": {},
     "output_type": "execute_result"
    }
   ],
   "source": [
    "# read  anomaly data to see\n",
    "df1 = pd.read_csv('traffic1/anomaly-mostly.csv')\n",
    "df1.head()"
   ]
  },
  {
   "cell_type": "code",
   "execution_count": 19,
   "metadata": {},
   "outputs": [
    {
     "data": {
      "text/html": [
       "<div>\n",
       "<style scoped>\n",
       "    .dataframe tbody tr th:only-of-type {\n",
       "        vertical-align: middle;\n",
       "    }\n",
       "\n",
       "    .dataframe tbody tr th {\n",
       "        vertical-align: top;\n",
       "    }\n",
       "\n",
       "    .dataframe thead th {\n",
       "        text-align: right;\n",
       "    }\n",
       "</style>\n",
       "<table border=\"1\" class=\"dataframe\">\n",
       "  <thead>\n",
       "    <tr style=\"text-align: right;\">\n",
       "      <th></th>\n",
       "      <th>as_src</th>\n",
       "      <th>as_dst</th>\n",
       "      <th>ip_dst</th>\n",
       "      <th>port_dst</th>\n",
       "      <th>ip_proto</th>\n",
       "      <th>packets</th>\n",
       "      <th>bytes</th>\n",
       "      <th>flows</th>\n",
       "      <th>timestamp_start_residual</th>\n",
       "      <th>timestamp_start</th>\n",
       "    </tr>\n",
       "  </thead>\n",
       "  <tbody>\n",
       "    <tr>\n",
       "      <td>0</td>\n",
       "      <td>16276</td>\n",
       "      <td>51960</td>\n",
       "      <td>91.222.25.49</td>\n",
       "      <td>57424</td>\n",
       "      <td>6</td>\n",
       "      <td>8192</td>\n",
       "      <td>630784</td>\n",
       "      <td>1</td>\n",
       "      <td>1585</td>\n",
       "      <td>2020-06-25 10:38:07</td>\n",
       "    </tr>\n",
       "    <tr>\n",
       "      <td>1</td>\n",
       "      <td>0</td>\n",
       "      <td>51960</td>\n",
       "      <td>193.9.123.80</td>\n",
       "      <td>48813</td>\n",
       "      <td>17</td>\n",
       "      <td>8192</td>\n",
       "      <td>11468800</td>\n",
       "      <td>1</td>\n",
       "      <td>8250</td>\n",
       "      <td>2020-06-25 10:38:07</td>\n",
       "    </tr>\n",
       "    <tr>\n",
       "      <td>2</td>\n",
       "      <td>2906</td>\n",
       "      <td>51960</td>\n",
       "      <td>91.222.24.209</td>\n",
       "      <td>60053</td>\n",
       "      <td>6</td>\n",
       "      <td>8192</td>\n",
       "      <td>12402688</td>\n",
       "      <td>1</td>\n",
       "      <td>85735</td>\n",
       "      <td>2020-06-25 10:38:07</td>\n",
       "    </tr>\n",
       "    <tr>\n",
       "      <td>3</td>\n",
       "      <td>36040</td>\n",
       "      <td>50550</td>\n",
       "      <td>109.207.96.150</td>\n",
       "      <td>58094</td>\n",
       "      <td>6</td>\n",
       "      <td>8192</td>\n",
       "      <td>12402688</td>\n",
       "      <td>1</td>\n",
       "      <td>86533</td>\n",
       "      <td>2020-06-25 10:38:07</td>\n",
       "    </tr>\n",
       "    <tr>\n",
       "      <td>4</td>\n",
       "      <td>2906</td>\n",
       "      <td>51960</td>\n",
       "      <td>193.9.123.226</td>\n",
       "      <td>51060</td>\n",
       "      <td>6</td>\n",
       "      <td>8192</td>\n",
       "      <td>12402688</td>\n",
       "      <td>1</td>\n",
       "      <td>86759</td>\n",
       "      <td>2020-06-25 10:38:07</td>\n",
       "    </tr>\n",
       "  </tbody>\n",
       "</table>\n",
       "</div>"
      ],
      "text/plain": [
       "   as_src  as_dst                                         ip_dst  port_dst  \\\n",
       "0   16276   51960  91.222.25.49                                      57424   \n",
       "1       0   51960  193.9.123.80                                      48813   \n",
       "2    2906   51960  91.222.24.209                                     60053   \n",
       "3   36040   50550  109.207.96.150                                    58094   \n",
       "4    2906   51960  193.9.123.226                                     51060   \n",
       "\n",
       "   ip_proto  packets     bytes  flows  timestamp_start_residual  \\\n",
       "0         6     8192    630784      1                      1585   \n",
       "1        17     8192  11468800      1                      8250   \n",
       "2         6     8192  12402688      1                     85735   \n",
       "3         6     8192  12402688      1                     86533   \n",
       "4         6     8192  12402688      1                     86759   \n",
       "\n",
       "       timestamp_start  \n",
       "0  2020-06-25 10:38:07  \n",
       "1  2020-06-25 10:38:07  \n",
       "2  2020-06-25 10:38:07  \n",
       "3  2020-06-25 10:38:07  \n",
       "4  2020-06-25 10:38:07  "
      ]
     },
     "execution_count": 19,
     "metadata": {},
     "output_type": "execute_result"
    }
   ],
   "source": [
    "# read  no-anomaly data to see\n",
    "df2 = pd.read_csv('traffic1/no-anomaly.csv')\n",
    "df2.head()"
   ]
  },
  {
   "cell_type": "code",
   "execution_count": null,
   "metadata": {
    "collapsed": true
   },
   "outputs": [],
   "source": []
  },
  {
   "cell_type": "code",
   "execution_count": null,
   "metadata": {
    "collapsed": true
   },
   "outputs": [],
   "source": []
  }
 ],
 "metadata": {
  "kernelspec": {
   "display_name": "Python 3",
   "language": "python",
   "name": "python3"
  },
  "language_info": {
   "codemirror_mode": {
    "name": "ipython",
    "version": 3
   },
   "file_extension": ".py",
   "mimetype": "text/x-python",
   "name": "python",
   "nbconvert_exporter": "python",
   "pygments_lexer": "ipython3",
   "version": "3.6.8"
  }
 },
 "nbformat": 4,
 "nbformat_minor": 2
}
